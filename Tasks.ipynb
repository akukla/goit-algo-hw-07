{
 "cells": [
  {
   "cell_type": "markdown",
   "id": "de25b5c4-c81b-4fba-9188-ca988416fbd7",
   "metadata": {},
   "source": [
    "## Реалізація дерева"
   ]
  },
  {
   "cell_type": "code",
   "execution_count": 26,
   "id": "80f11104-8066-4296-831d-26dd4d65bde7",
   "metadata": {},
   "outputs": [],
   "source": [
    "import networkx as nx\n",
    "import matplotlib.pyplot as plt\n",
    "import warnings\n",
    "warnings.filterwarnings('ignore')\n",
    "\n",
    "\n",
    "class Node:\n",
    "    def __init__(self, value):\n",
    "        self.value = value\n",
    "        self.left = None\n",
    "        self.right = None\n",
    "\n",
    "class BinaryTree:\n",
    "    def __init__(self, root):\n",
    "        self.root = Node(root)\n",
    "\n",
    "    def insert(self, value):\n",
    "        if self.root is None:\n",
    "            self.root = Node(value)\n",
    "        else:\n",
    "            self._insert(value, self.root)\n",
    "\n",
    "    def find_shortest_path_to_leaf(self, current_node):\n",
    "        buff = [current_node]\n",
    "        while True:\n",
    "            new_buff = []\n",
    "            for child in buff:\n",
    "                if child.left is None or child.right is None:\n",
    "                    return child\n",
    "                else:\n",
    "                    new_buff.append(child.left)\n",
    "                    new_buff.append(child.right)\n",
    "            buff = new_buff\n",
    "\n",
    "    def _insert(self, value, current_node):\n",
    "        if current_node.left is None:\n",
    "            current_node.left = Node(value)\n",
    "        elif current_node.right is None:\n",
    "            current_node.right = Node(value)\n",
    "        else:\n",
    "            self._insert(value, self.find_shortest_path_to_leaf(current_node))"
   ]
  },
  {
   "cell_type": "markdown",
   "id": "a92df260-91b0-4773-b5a6-badc555204f6",
   "metadata": {},
   "source": [
    "## Тестові данні"
   ]
  },
  {
   "cell_type": "code",
   "execution_count": 9,
   "id": "6f9e3c67-791e-4210-a72e-30d5419a817a",
   "metadata": {},
   "outputs": [],
   "source": [
    "tree = BinaryTree(33)\n",
    "tree.insert(4)\n",
    "tree.insert(6)\n",
    "tree.insert(8)\n",
    "tree.insert(9)\n",
    "tree.insert(10)\n",
    "tree.insert(11)\n",
    "tree.insert(12)\n",
    "tree.insert(13)\n",
    "tree.insert(14)\n",
    "tree.insert(50)\n",
    "tree.insert(2)\n",
    "tree.insert(3)\n",
    "tree.insert(31)\n",
    "tree.insert(23)"
   ]
  },
  {
   "cell_type": "code",
   "execution_count": 27,
   "id": "93f06c17-c3a5-4482-8cf5-9a4b6d68ad43",
   "metadata": {},
   "outputs": [
    {
     "data": {
      "image/png": "[encoded data removed]",
      "text/plain": [
       "<Figure size 640x480 with 1 Axes>"
      ]
     },
     "metadata": {},
     "output_type": "display_data"
    }
   ],
   "source": [
    "def visualize_tree(tree):\n",
    "    G = nx.Graph()\n",
    "    add_nodes(tree.root, G)\n",
    "    add_edges(tree.root, G)\n",
    "    \n",
    "    pos = nx.nx_pydot.graphviz_layout(G, prog='dot')\n",
    "    nx.draw(G, pos, with_labels=True, node_size=500, node_color='lightblue', font_size=12, font_weight='bold')\n",
    "    plt.show()\n",
    "\n",
    "def add_nodes(node, G):\n",
    "    if node is not None:\n",
    "        G.add_node(node.value)\n",
    "        add_nodes(node.left, G)\n",
    "        add_nodes(node.right, G)\n",
    "\n",
    "def add_edges(node, G):\n",
    "    if node is not None:\n",
    "        if node.left is not None:\n",
    "            G.add_edge(node.value, node.left.value)\n",
    "            add_edges(node.left, G)\n",
    "        if node.right is not None:\n",
    "            G.add_edge(node.value, node.right.value)\n",
    "            add_edges(node.right, G)\n",
    "\n",
    "visualize_tree(tree)"
   ]
  },
  {
   "cell_type": "markdown",
   "id": "755aa798-d5fc-416c-8a5d-a84f4b225fda",
   "metadata": {},
   "source": [
    "## Завдання 1/2\n",
    "\n",
    "\n",
    "Напишіть алгоритм (функцію), який знаходить найбільше значення у двійковому дереві пошуку або в AVL-дереві.\n",
    "\n",
    "Напишіть алгоритм (функцію), який знаходить найменше значення у двійковому дереві пошуку або в AVL-дереві. \n"
   ]
  },
  {
   "cell_type": "code",
   "execution_count": 24,
   "id": "5a442087-58b1-4cef-8afe-71e739c6ae7a",
   "metadata": {},
   "outputs": [
    {
     "name": "stdout",
     "output_type": "stream",
     "text": [
      "Мінімальне значення: 2\n",
      "Максимальне значення: 50\n"
     ]
    }
   ],
   "source": [
    "def find_ext_value(node, fn):\n",
    "    if node is None:\n",
    "        return None\n",
    "    else:\n",
    "        left_ext = find_ext_value(node.left, fn)\n",
    "        right_ext = find_ext_value(node.right, fn)\n",
    "        if left_ext is None and right_ext is None:\n",
    "            return node.value\n",
    "        elif left_ext is None:\n",
    "            return fn(node.value, right_ext)\n",
    "        elif right_ext is None:\n",
    "            return fn(node.value, left_ext)\n",
    "        else:\n",
    "            return fn(node.value, left_ext, right_ext)\n",
    "\n",
    "minimum_value = find_ext_value(tree.root, min)\n",
    "print(f\"Мінімальне значення: {minimum_value}\")\n",
    "maximum_value = find_ext_value(tree.root, max)\n",
    "print(f\"Максимальне значення: {maximum_value}\")"
   ]
  },
  {
   "cell_type": "markdown",
   "id": "0ea6ea75-0039-4e9f-ae1b-542d20a08c3c",
   "metadata": {},
   "source": [
    "## Завдання 3\n",
    "\n",
    "Напишіть алгоритм (функцію), який знаходить суму всіх значень у двійковому дереві пошуку або в AVL-дереві."
   ]
  },
  {
   "cell_type": "code",
   "execution_count": 29,
   "id": "fd81402c-6a32-40c6-8793-10b25d31f6e3",
   "metadata": {},
   "outputs": [
    {
     "name": "stdout",
     "output_type": "stream",
     "text": [
      "Сума: 229\n"
     ]
    }
   ],
   "source": [
    "def find_sum_of_values(node):\n",
    "    if node is None:\n",
    "        return 0\n",
    "    else:\n",
    "        left_sum = find_sum_of_values(node.left)\n",
    "        right_sum = find_sum_of_values(node.right)\n",
    "        return node.value + left_sum + right_sum\n",
    "\n",
    "sum_of_values = find_sum_of_values(tree.root)\n",
    "print(f\"Сума: {sum_of_values}\")"
   ]
  }
 ],
 "metadata": {
  "kernelspec": {
   "display_name": "Python 3 (ipykernel)",
   "language": "python",
   "name": "python3"
  },
  "language_info": {
   "codemirror_mode": {
    "name": "ipython",
    "version": 3
   },
   "file_extension": ".py",
   "mimetype": "text/x-python",
   "name": "python",
   "nbconvert_exporter": "python",
   "pygments_lexer": "ipython3",
   "version": "3.10.12"
  }
 },
 "nbformat": 4,
 "nbformat_minor": 5
}
